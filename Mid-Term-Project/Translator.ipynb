{
 "cells": [
  {
   "cell_type": "code",
   "execution_count": 1,
   "id": "906b8421",
   "metadata": {},
   "outputs": [],
   "source": [
    "#          A L E R T\n",
    "\n",
    "# Please install following library if the code produces following error\n",
    "# AttributeError: ‘NoneType’ object has no attribute ‘group’\n",
    "\n",
    "\n",
    "# pip install googletrans==3.1.0a0"
   ]
  },
  {
   "cell_type": "code",
   "execution_count": 2,
   "id": "d01f6888",
   "metadata": {},
   "outputs": [],
   "source": [
    "from tkinter import *\n",
    "from tkinter import ttk\n",
    "from googletrans import Translator , LANGUAGES"
   ]
  },
  {
   "cell_type": "code",
   "execution_count": 3,
   "id": "2be7d9d2",
   "metadata": {},
   "outputs": [],
   "source": [
    "root = Tk()\n",
    "root.geometry('1080x400')\n",
    "root.resizable(0,0)\n",
    "root.title(\"Text Translator for NED Academy - by Farrukh Raza\")\n",
    "root.config(bg = 'darkolivegreen3')\n",
    "\n",
    "#heading\n",
    "Label(root, text = \"Text to Text Translator\", font=\"arial 20 bold\", fg='White', bg='darkolivegreen4', width='20').pack()\n",
    "Label(root,text =\"Text Translator for NED Academy by Farrukh Raza\", font = 'arial 20 bold', fg='White', bg='darkolivegreen4', width='45').pack(side = 'bottom')"
   ]
  },
  {
   "cell_type": "code",
   "execution_count": 4,
   "id": "30ace2a4",
   "metadata": {},
   "outputs": [],
   "source": [
    "#INPUT AND OUTPUT TEXT WIDGET\n",
    "Label(root,text =\"Input Text\", font = 'arial 13 bold', bg ='white smoke').place(x=20,y=85)\n",
    "Input_text = Text(root,font = 'arial 10', height = 11, wrap = WORD, padx=5, pady=5, width = 60)\n",
    "Input_text.place(x=25,y = 115)\n",
    "\n",
    "\n",
    "Label(root,text =\"Output Text\", font = 'arial 13 bold', bg ='white smoke').place(x=600,y=85)\n",
    "Output_text = Text(root,font = 'arial 10', height = 11, wrap = WORD, padx=5, pady= 5, width =60)\n",
    "Output_text.place(x = 605 , y = 115)"
   ]
  },
  {
   "cell_type": "code",
   "execution_count": null,
   "id": "67487cc4",
   "metadata": {},
   "outputs": [],
   "source": [
    "\n",
    "\n",
    "language = list(LANGUAGES.values())\n",
    "\n",
    "src_lang = ttk.Combobox(root, values= language, width =22)\n",
    "src_lang.place(x=20,y=60)\n",
    "src_lang.set('Choose Input Language')\n",
    "\n",
    "dest_lang = ttk.Combobox(root, values= language, width =22)\n",
    "dest_lang.place(x=600,y=60)\n",
    "dest_lang.set('Choose Output Language')\n",
    "\n",
    "\n",
    "\n",
    "def Translate():\n",
    "    translator = Translator()\n",
    "    translated=translator.translate(text= Input_text.get(1.0, END) , src = src_lang.get(), dest = dest_lang.get())\n",
    "    Output_text.delete(1.0, END)\n",
    "    Output_text.insert(END, translated.text)\n",
    "\n",
    "    \n",
    "trans_btn = Button(root, text = 'Translate', font='arial 12 bold', fg='white', pady=5, command=Translate , bg='darkolivegreen4', activebackground='darkolivegreen', width='8')\n",
    "trans_btn.place(x = 485, y = 180)\n",
    "\n",
    "root.mainloop()\n"
   ]
  },
  {
   "cell_type": "code",
   "execution_count": null,
   "id": "312c01ab",
   "metadata": {},
   "outputs": [],
   "source": []
  }
 ],
 "metadata": {
  "kernelspec": {
   "display_name": "Python 3 (ipykernel)",
   "language": "python",
   "name": "python3"
  },
  "language_info": {
   "codemirror_mode": {
    "name": "ipython",
    "version": 3
   },
   "file_extension": ".py",
   "mimetype": "text/x-python",
   "name": "python",
   "nbconvert_exporter": "python",
   "pygments_lexer": "ipython3",
   "version": "3.11.3"
  }
 },
 "nbformat": 4,
 "nbformat_minor": 5
}
