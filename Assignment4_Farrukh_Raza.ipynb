{
 "cells": [
  {
   "cell_type": "markdown",
   "id": "dbeb14e1",
   "metadata": {
    "id": "dbeb14e1"
   },
   "source": [
    "---\n",
    "\n",
    "## Advanced Regular Expression Assignments\n",
    "\n",
    "### Assignment 1: Extracting Phone Numbers\n",
    "\n",
    "**Raw Text:**\n",
    "Extract all valid Pakistani phone numbers from a given text.\n",
    "\n",
    "**Example:**\n",
    "```\n",
    "Text: Please contact me at 0301-1234567 or 042-35678901 for further details.\n",
    "```\n",
    "\n"
   ]
  },
  {
   "cell_type": "code",
   "execution_count": 2,
   "id": "b830b03e",
   "metadata": {
    "id": "b830b03e"
   },
   "outputs": [
    {
     "name": "stdout",
     "output_type": "stream",
     "text": [
      "['0301-1234567', '042-35678901']\n"
     ]
    }
   ],
   "source": [
    "# First import Regular Expression library\n",
    "import re\n",
    "\n",
    "\n",
    "# Text: Please contact me at 0301-1234567 or 042-35678901 for further details.\n",
    "theText = \"\"\"\n",
    "Please contact me at 0301-1234567 or 042-35678901 for further details.\n",
    "\"\"\"\n",
    "\n",
    "pattern = '\\d{3,4}-\\d{7,8}'\n",
    "\n",
    "theMatch = re.findall(pattern, theText)\n",
    "\n",
    "print(theMatch)"
   ]
  },
  {
   "cell_type": "markdown",
   "id": "dd34fb2f",
   "metadata": {
    "id": "dd34fb2f"
   },
   "source": [
    "### Assignment 2: Validating Email Addresses\n",
    "\n",
    "**Raw Text:**\n",
    "Validate email addresses according to Pakistani domain extensions (.pk).\n",
    "\n",
    "**Example:**\n",
    "```\n",
    "Text: Contact us at info@example.com or support@domain.pk for assistance.\n",
    "```\n",
    "\n"
   ]
  },
  {
   "cell_type": "code",
   "execution_count": 3,
   "id": "64cf6883",
   "metadata": {
    "id": "64cf6883"
   },
   "outputs": [
    {
     "name": "stdout",
     "output_type": "stream",
     "text": [
      "['support@domain.pk']\n"
     ]
    }
   ],
   "source": [
    "theText = \"\"\"\n",
    "Contact us at info@example.com or support@domain.pk for assistance.\n",
    "\"\"\"\n",
    "\n",
    "pattern = '[A-z0-9\\.]+@[A-z0-9]+\\.pk'\n",
    "\n",
    "theMatch = re.findall(pattern, theText)\n",
    "\n",
    "\n",
    "print(theMatch)"
   ]
  },
  {
   "cell_type": "markdown",
   "id": "0bd2f6f3",
   "metadata": {
    "id": "0bd2f6f3"
   },
   "source": [
    "### Assignment 3: Extracting CNIC Numbers\n",
    "\n",
    "**Raw Text:**\n",
    "Extract all Pakistani CNIC (Computerized National Identity Card) numbers from a given text.\n",
    "\n",
    "**Example:**\n",
    "```\n",
    "Text: My CNIC is 12345-6789012-3 and another one is 34567-8901234-5.\n",
    "```\n"
   ]
  },
  {
   "cell_type": "code",
   "execution_count": 4,
   "id": "b825834e",
   "metadata": {
    "id": "b825834e"
   },
   "outputs": [
    {
     "name": "stdout",
     "output_type": "stream",
     "text": [
      "['12345-6789012-3', '34567-8901234-5']\n"
     ]
    }
   ],
   "source": [
    "theText = \"\"\"\n",
    "My CNIC is 12345-6789012-3 and another one is 34567-8901234-5.\n",
    "\"\"\"\n",
    "\n",
    "pattern = '\\d{5}-\\d{7}-\\d{1}'\n",
    "\n",
    "theMatch = re.findall(pattern, theText)\n",
    "\n",
    "print(theMatch)"
   ]
  },
  {
   "cell_type": "markdown",
   "id": "f21a0a2f",
   "metadata": {
    "id": "f21a0a2f"
   },
   "source": [
    "\n",
    "### Assignment 4: Identifying Urdu Words\n",
    "\n",
    "**Raw Text:**\n",
    "Identify and extract Urdu words from a mixed English-Urdu text.\n",
    "\n",
    "**Example:**\n",
    "```\n",
    "Text: یہ sentence میں کچھ English words بھی ہیں۔\n",
    "```\n",
    "\n"
   ]
  },
  {
   "cell_type": "code",
   "execution_count": 5,
   "id": "b4263cfb",
   "metadata": {
    "id": "b4263cfb"
   },
   "outputs": [
    {
     "name": "stdout",
     "output_type": "stream",
     "text": [
      "['یہ', 'میں', 'کچھ', 'بھی', 'ہیں۔']\n"
     ]
    }
   ],
   "source": [
    "\n",
    "theText = \"\"\"\n",
    "یہ sentence میں کچھ English words بھی ہیں۔\n",
    "\"\"\"\n",
    "\n",
    "pattern = r'[\\u0600-\\u06ff]+'\n",
    "\n",
    "theMatch = re.findall(pattern, theText)\n",
    "\n",
    "\n",
    "print(theMatch)\n"
   ]
  },
  {
   "cell_type": "markdown",
   "id": "421405e8",
   "metadata": {
    "id": "421405e8"
   },
   "source": [
    "### Assignment 5: Finding Dates\n",
    "\n",
    "**Raw Text:**\n",
    "Find and extract dates in the format DD-MM-YYYY from a given text.\n",
    "\n",
    "**Example:**\n",
    "```\n",
    "Text: The event will take place on 15-08-2023 and 23-09-2023.\n",
    "```\n",
    "\n"
   ]
  },
  {
   "cell_type": "code",
   "execution_count": 6,
   "id": "c2f9d8bf",
   "metadata": {
    "id": "c2f9d8bf"
   },
   "outputs": [
    {
     "name": "stdout",
     "output_type": "stream",
     "text": [
      "['15-08-2023', '23-09-2023']\n"
     ]
    }
   ],
   "source": [
    "\n",
    "theText = \"\"\"\n",
    "The event will take place on 15-08-2023 and 23-09-2023.\n",
    "\"\"\"\n",
    "\n",
    "pattern = '\\d{1,2}-\\d{2}-\\d{4}'\n",
    "\n",
    "theMatch = re.findall(pattern, theText)\n",
    "\n",
    "\n",
    "print(theMatch)"
   ]
  },
  {
   "cell_type": "markdown",
   "id": "6b817815",
   "metadata": {
    "id": "6b817815"
   },
   "source": [
    "### Assignment 6: Extracting URLs\n",
    "\n",
    "**Raw Text:**\n",
    "Extract all URLs from a text that belong to Pakistani domains.\n",
    "\n",
    "**Example:**\n",
    "```\n",
    "Text: Visit http://www.example.pk or https://website.com.pk for more information.\n",
    "```\n",
    "\n"
   ]
  },
  {
   "cell_type": "code",
   "execution_count": 7,
   "id": "c2ba10ac",
   "metadata": {
    "id": "c2ba10ac"
   },
   "outputs": [
    {
     "name": "stdout",
     "output_type": "stream",
     "text": [
      "['http://www.example.pk', 'https://website.com.pk']\n"
     ]
    }
   ],
   "source": [
    "theText = \"\"\"\n",
    "Visit http://www.example.pk or https://website.com.pk for more information.\n",
    "\"\"\"\n",
    "\n",
    "pattern = 'https?://[A-z0-9\\.]+\\.pk'\n",
    "\n",
    "theMatch = re.findall(pattern, theText)\n",
    "\n",
    "\n",
    "print(theMatch)"
   ]
  },
  {
   "cell_type": "markdown",
   "id": "7ff1dc07",
   "metadata": {
    "id": "7ff1dc07"
   },
   "source": [
    "### Assignment 7: Analyzing Currency\n",
    "\n",
    "**Raw Text:**\n",
    "Extract and analyze currency amounts in Pakistani Rupees (PKR) from a given text.\n",
    "\n",
    "**Example:**\n",
    "```\n",
    "Text: The product costs PKR 1500, while the deluxe version is priced at Rs. 2500.\n",
    "```\n",
    "\n"
   ]
  },
  {
   "cell_type": "code",
   "execution_count": 8,
   "id": "28769652",
   "metadata": {
    "id": "28769652"
   },
   "outputs": [
    {
     "name": "stdout",
     "output_type": "stream",
     "text": [
      "['PKR 1500']\n"
     ]
    }
   ],
   "source": [
    "theText = \"\"\"\n",
    "The product costs PKR 1500, while the deluxe version is priced at Rs. 2500.\n",
    "\"\"\"\n",
    "\n",
    "pattern = 'PKR \\d{1,999999999}.\\d{1,999999999}'          # To make sure if the amount cotains a 'Decimal' number\n",
    "\n",
    "theMatch = re.findall(pattern, theText)\n",
    "\n",
    "\n",
    "print(theMatch)"
   ]
  },
  {
   "cell_type": "markdown",
   "id": "651c8b5d",
   "metadata": {
    "id": "651c8b5d"
   },
   "source": [
    "### Assignment 8: Removing Punctuation\n",
    "\n",
    "**Raw Text:**\n",
    "Remove all punctuation marks from a text while preserving Urdu characters.\n",
    "\n",
    "**Example:**\n",
    "```\n",
    "Text: کیا! آپ, یہاں؟\n",
    "```\n",
    "\n"
   ]
  },
  {
   "cell_type": "code",
   "execution_count": 9,
   "id": "96350bf0",
   "metadata": {
    "id": "96350bf0"
   },
   "outputs": [
    {
     "name": "stdout",
     "output_type": "stream",
     "text": [
      "\n",
      "کیا آپ یہاں\n",
      "\n"
     ]
    }
   ],
   "source": [
    "theText = \"\"\"\n",
    "کیا! آپ, یہاں؟\n",
    "\"\"\"\n",
    "\n",
    "theMatch = re.sub('[^\\w\\s]', '', theText)\n",
    "\n",
    "print(theMatch)"
   ]
  },
  {
   "cell_type": "markdown",
   "id": "8cc27684",
   "metadata": {
    "id": "8cc27684"
   },
   "source": [
    "### Assignment 9: Extracting City Names\n",
    "\n",
    "**Raw Text:**\n",
    "Extract names of Pakistani cities from a given text.\n",
    "\n",
    "**Example:**\n",
    "```\n",
    "Text: Lahore, Karachi, Islamabad, and Peshawar are major cities of Pakistan.\n",
    "```\n"
   ]
  },
  {
   "cell_type": "code",
   "execution_count": 10,
   "id": "a81035ed",
   "metadata": {
    "id": "a81035ed"
   },
   "outputs": [
    {
     "name": "stdout",
     "output_type": "stream",
     "text": [
      "['Lahore', 'Karachi', 'Islamabad', 'Peshawar']\n"
     ]
    }
   ],
   "source": [
    "theText = \"\"\"\n",
    "Lahore, Karachi, Islamabad, and Peshawar are major cities of Pakistan.\n",
    "\"\"\"\n",
    "\n",
    "theText = re.sub(\"Pakistan\", \"\", theText)          # Replaced the occurance on 'Pakistan' in the string by empty string\n",
    "\n",
    "pattern = '[A-Z][a-z]+'\n",
    "\n",
    "theMatch = re.findall(pattern, theText)\n",
    "\n",
    "print(theMatch)"
   ]
  },
  {
   "cell_type": "markdown",
   "id": "219b6c4c",
   "metadata": {
    "id": "219b6c4c"
   },
   "source": [
    "\n",
    "### Assignment 10: Analyzing Vehicle Numbers\n",
    "\n",
    "**Raw Text:**\n",
    "Identify and extract Pakistani vehicle registration numbers (e.g., ABC-123) from a text.\n",
    "\n",
    "**Example:**\n",
    "```\n",
    "Text: I saw a car with the number plate LEA-567 near the market.\n",
    "```\n",
    "\n"
   ]
  },
  {
   "cell_type": "code",
   "execution_count": 11,
   "id": "33e1e5ba",
   "metadata": {
    "id": "33e1e5ba"
   },
   "outputs": [
    {
     "name": "stdout",
     "output_type": "stream",
     "text": [
      "['LEA-567']\n"
     ]
    }
   ],
   "source": [
    "theText = \"\"\"\n",
    "I saw a car with the number plate LEA-567 near the market.\n",
    "\"\"\"\n",
    "\n",
    "pattern = '[A-Z]{3}-\\d{3}'\n",
    "\n",
    "theMatch = re.findall(pattern, theText)\n",
    "\n",
    "\n",
    "print(theMatch)"
   ]
  },
  {
   "cell_type": "code",
   "execution_count": null,
   "id": "f0ea2099",
   "metadata": {},
   "outputs": [],
   "source": []
  }
 ],
 "metadata": {
  "colab": {
   "provenance": []
  },
  "kernelspec": {
   "display_name": "Python 3 (ipykernel)",
   "language": "python",
   "name": "python3"
  },
  "language_info": {
   "codemirror_mode": {
    "name": "ipython",
    "version": 3
   },
   "file_extension": ".py",
   "mimetype": "text/x-python",
   "name": "python",
   "nbconvert_exporter": "python",
   "pygments_lexer": "ipython3",
   "version": "3.11.3"
  }
 },
 "nbformat": 4,
 "nbformat_minor": 5
}
