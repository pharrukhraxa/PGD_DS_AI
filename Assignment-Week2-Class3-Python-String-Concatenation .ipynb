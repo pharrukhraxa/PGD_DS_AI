{
 "cells": [
  {
   "cell_type": "markdown",
   "id": "9b982238",
   "metadata": {},
   "source": [
    "**Assignment 1: String Concatenation and Formatting**\n",
    "\n",
    "**Instructions:**\n",
    "\n",
    "1. Create a variable `name` and assign your name to it.\n",
    "2. Create a variable `age` and assign your age to it.\n",
    "3. Create a variable `country` and assign your country of residence to it.\n",
    "4. Using the `+` operator, concatenate the variables to form a sentence in the following format: \"My name is `<name>`, I am `<age>` years old, and I live in `<country>`.\"\n",
    "5. Print the concatenated sentence."
   ]
  },
  {
   "cell_type": "code",
   "execution_count": 21,
   "id": "ace15ab9",
   "metadata": {},
   "outputs": [
    {
     "name": "stdout",
     "output_type": "stream",
     "text": [
      "My name is Syed Muhammad Farrukh Raza. I am 40 years old, and I live in Pakistan.\n"
     ]
    }
   ],
   "source": [
    "# Assignment 1: String Concatenation and Formatting\n",
    "\n",
    "name = \"Syed Muhammad Farrukh Raza\"\n",
    "age = 40\n",
    "country = \"Pakistan\"\n",
    "\n",
    "sentence = \"My name is \"+ name +\". I am \"+ str(age) + \" years old, and I live in \"+ country +\".\"\n",
    "\n",
    "print(sentence)"
   ]
  },
  {
   "cell_type": "markdown",
   "id": "a97124db",
   "metadata": {},
   "source": [
    "**Assignment 2: String Formatting using `.format()`**\n",
    "\n",
    "**Instructions:**\n",
    "\n",
    "1. Create a variable `item` and assign a product name to it (e.g., \"laptop\", \"book\", \"phone\").\n",
    "2. Create a variable `price` and assign a price to the item.\n",
    "3. Create a variable `quantity` and assign a quantity value.\n",
    "4. Calculate the total cost using the formula: `total_cost = price * quantity`.\n",
    "5. Using the `.format()` method, create a formatted string: \"I bought `<quantity>` `<item>`(s) at `<price>` each, for a total of $`<total_cost>`.\"\n",
    "6. Print the formatted string."
   ]
  },
  {
   "cell_type": "code",
   "execution_count": 22,
   "id": "91b6eaca",
   "metadata": {},
   "outputs": [
    {
     "name": "stdout",
     "output_type": "stream",
     "text": [
      "I bought 4 Calculator(s) at 35 each, for a total of $140.\n"
     ]
    }
   ],
   "source": [
    "# Assignment 2: String Formatting using .format()\n",
    "\n",
    "item = \"Calculator\"\n",
    "price = 35\n",
    "quantity = 4\n",
    "\n",
    "total_cost = price * quantity\n",
    "\n",
    "formatted_string = \"\"\"I bought {} {}(s) at {} each, for a total of ${}.\"\"\".format(quantity, item, price, total_cost)\n",
    "\n",
    "print(formatted_string)"
   ]
  },
  {
   "cell_type": "markdown",
   "id": "bb281fb7",
   "metadata": {},
   "source": [
    "**Assignment 3: String Interpolation using `f\"\"\"`**\n",
    "\n",
    "**Instructions:**\n",
    "\n",
    "1. Create a variable `city` and assign the name of a city.\n",
    "2. Create a variable `temperature` and assign a temperature value in Celsius.\n",
    "3. Using `f\"\"\"` string interpolation, create a string: \"The temperature in `<city>` is `<temperature>`°C.\"\n",
    "4. Print the interpolated string."
   ]
  },
  {
   "cell_type": "code",
   "execution_count": 23,
   "id": "063a8ba1",
   "metadata": {},
   "outputs": [
    {
     "name": "stdout",
     "output_type": "stream",
     "text": [
      "The temperature in Karachi is 35 °C.\n"
     ]
    }
   ],
   "source": [
    "# Assignment 3: String Interpolation using f\"\"\"\n",
    "\n",
    "city = \"Karachi\"\n",
    "temperature = 35\n",
    "\n",
    "string_interpolation = f\"\"\"The temperature in {city} is {temperature} °C.\"\"\"\n",
    "\n",
    "print(string_interpolation)"
   ]
  },
  {
   "cell_type": "markdown",
   "id": "851fd268",
   "metadata": {},
   "source": [
    "**Assignment 4: String Formatting using `%()`**\n",
    "\n",
    "**Instructions:**\n",
    "\n",
    "1. Create a variable `first_name` and assign your first name to it.\n",
    "2. Create a variable `last_name` and assign your last name to it.\n",
    "3. Create a variable `birth_year` and assign your birth year.\n",
    "4. Calculate your age using the formula: `age = current_year - birth_year`, where `current_year` is the current year.\n",
    "5. Using `%()` string formatting, create a string: \"My name is %(first_name)s %(last_name)s. I am %(age)d years old.\"\n",
    "6. Print the formatted string."
   ]
  },
  {
   "cell_type": "code",
   "execution_count": 26,
   "id": "5714c2fd",
   "metadata": {},
   "outputs": [
    {
     "name": "stdout",
     "output_type": "stream",
     "text": [
      "My name is Syed Muhammad Farrukh Raza. I am 41 years old\n"
     ]
    }
   ],
   "source": [
    "# Assignment 4: String Formatting using %()\n",
    "\n",
    "first_name = \"Syed Muhammad Farrukh\"\n",
    "last_name = \"Raza\"\n",
    "birth_year = 1982\n",
    "current_year = 2023\n",
    "age = current_year - birth_year\n",
    "\n",
    "stringFormatting = \"My name is %s %s. I am %d years old\" % (first_name, last_name, age)\n",
    "\n",
    "print(stringFormatting)"
   ]
  },
  {
   "cell_type": "markdown",
   "id": "9ad9c601",
   "metadata": {},
   "source": [
    "**Assignment 5: Combining Formatting Methods**\n",
    "\n",
    "**Instructions:**\n",
    "\n",
    "1. Create a variable `product` and assign a product name.\n",
    "2. Create a variable `discount` and assign a discount percentage.\n",
    "3. Create a variable `original_price` and assign an original price.\n",
    "4. Calculate the discounted price using the formula: `discounted_price = original_price * (1 - discount / 100)`.\n",
    "5. Using any combination of string formatting methods (`+`, `.format()`, `f''`, `%()`), create a descriptive string with the product name, original price, discount percentage, and discounted price.\n",
    "6. Print the descriptive string."
   ]
  },
  {
   "cell_type": "code",
   "execution_count": 35,
   "id": "fa56be37",
   "metadata": {},
   "outputs": [
    {
     "name": "stdout",
     "output_type": "stream",
     "text": [
      "The original price of this headphone is USD 75. After a discount of 10%, it is available on a discounted price of USD 67.5.\n"
     ]
    }
   ],
   "source": [
    "# Assignment 5: Combining Formatting Methods\n",
    "\n",
    "product = \"headphone\"\n",
    "discount = 10\n",
    "original_price = 75\n",
    "discounted_price = original_price * (1 - discount/100)\n",
    "\n",
    "the_formatted_string = \"\"\"The original price of this {0} is USD {2}. After a discount of {1}%, it is available on a discounted price of USD {3}.\"\"\".format(product, discount, original_price, discounted_price)\n",
    "\n",
    "print(the_formatted_string)"
   ]
  },
  {
   "cell_type": "code",
   "execution_count": null,
   "id": "29fa4c4a",
   "metadata": {},
   "outputs": [],
   "source": []
  }
 ],
 "metadata": {
  "kernelspec": {
   "display_name": "Python 3 (ipykernel)",
   "language": "python",
   "name": "python3"
  },
  "language_info": {
   "codemirror_mode": {
    "name": "ipython",
    "version": 3
   },
   "file_extension": ".py",
   "mimetype": "text/x-python",
   "name": "python",
   "nbconvert_exporter": "python",
   "pygments_lexer": "ipython3",
   "version": "3.11.3"
  }
 },
 "nbformat": 4,
 "nbformat_minor": 5
}
