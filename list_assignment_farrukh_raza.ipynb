{
 "cells": [
  {
   "cell_type": "markdown",
   "id": "176393e5",
   "metadata": {},
   "source": [
    "# Python List Manipulation Assignment"
   ]
  },
  {
   "cell_type": "markdown",
   "id": "4efadf7f",
   "metadata": {},
   "source": [
    "### Question 1: Basic List Operations\n",
    "\n",
    "**a)** Create a list named `fruits` containing the following items: \"apple\", \"banana\", \"orange\", \"grape\", \"kiwi\".\n",
    "\n",
    "**b)** Add \"pear\" to the end of the list.\n",
    "\n",
    "**c)** Insert \"mango\" at the second position in the list.\n",
    "\n",
    "**d)** Remove \"orange\" from the list.\n"
   ]
  },
  {
   "cell_type": "code",
   "execution_count": 9,
   "id": "593cbfec",
   "metadata": {},
   "outputs": [
    {
     "name": "stdout",
     "output_type": "stream",
     "text": [
      "['apple', 'banana', 'orange', 'grape', 'kiwi']\n"
     ]
    }
   ],
   "source": [
    "# a) Create a list named fruits containing the following items: \"apple\", \"banana\", \"orange\", \"grape\", \"kiwi\".\n",
    "\n",
    "\n",
    "fruits = [\"apple\", \"banana\", \"orange\", \"grape\", \"kiwi\"]\n",
    "\n",
    "print(fruits)"
   ]
  },
  {
   "cell_type": "code",
   "execution_count": 10,
   "id": "3aa91001",
   "metadata": {},
   "outputs": [
    {
     "name": "stdout",
     "output_type": "stream",
     "text": [
      "['apple', 'banana', 'orange', 'grape', 'kiwi', 'pear']\n"
     ]
    }
   ],
   "source": [
    "# b) Add \"pear\" to the end of the list.\n",
    "\n",
    "\n",
    "fruits.append(\"pear\")    # using 'append' function to add an item to the end of list\n",
    "\n",
    "print(fruits)"
   ]
  },
  {
   "cell_type": "code",
   "execution_count": 11,
   "id": "8f226d5a",
   "metadata": {},
   "outputs": [
    {
     "name": "stdout",
     "output_type": "stream",
     "text": [
      "['apple', 'mango', 'banana', 'orange', 'grape', 'kiwi', 'pear']\n"
     ]
    }
   ],
   "source": [
    "# c) Insert \"mango\" at the second position in the list.\n",
    "\n",
    "\n",
    "fruits.insert(1, \"mango\")          # using 'insert' function to add an item to the list at a 'specified' position\n",
    "\n",
    "print(fruits)"
   ]
  },
  {
   "cell_type": "code",
   "execution_count": 12,
   "id": "bc8a09c1",
   "metadata": {},
   "outputs": [
    {
     "name": "stdout",
     "output_type": "stream",
     "text": [
      "['apple', 'mango', 'banana', 'grape', 'kiwi', 'pear']\n"
     ]
    }
   ],
   "source": [
    "# d) Remove \"orange\" from the list.\n",
    "\n",
    "\n",
    "fruits.remove(\"orange\")          # using 'remove' function to remove an item from the list\n",
    "\n",
    "print(fruits)"
   ]
  },
  {
   "cell_type": "markdown",
   "id": "601d7613",
   "metadata": {},
   "source": [
    "### Question 2: Slicing and Indexing\n",
    "\n",
    "**a)** Create a list named `numbers` containing the integers from 0 to 9.\n",
    "\n",
    "**b)** Print the element at index 3.\n",
    "\n",
    "**c)** Print a sublist containing the elements from index 2 to 6 (inclusive).\n",
    "\n",
    "**d)** Print the last three elements using negative indexing.\n"
   ]
  },
  {
   "cell_type": "code",
   "execution_count": 2,
   "id": "704fdafc",
   "metadata": {},
   "outputs": [
    {
     "name": "stdout",
     "output_type": "stream",
     "text": [
      "[0, 1, 2, 3, 4, 5, 6, 7, 8, 9]\n"
     ]
    }
   ],
   "source": [
    "# a) Create a list named numbers containing the integers from 0 to 9.\n",
    "\n",
    "numbers = [0, 1, 2, 3, 4, 5, 6, 7, 8, 9]\n",
    "\n",
    "print(numbers)\n"
   ]
  },
  {
   "cell_type": "code",
   "execution_count": 3,
   "id": "2c1d75f0",
   "metadata": {},
   "outputs": [
    {
     "name": "stdout",
     "output_type": "stream",
     "text": [
      "3\n"
     ]
    }
   ],
   "source": [
    "# b) Print the element at index 3.\n",
    "\n",
    "print(numbers[3])"
   ]
  },
  {
   "cell_type": "code",
   "execution_count": 35,
   "id": "82a1e500",
   "metadata": {},
   "outputs": [
    {
     "name": "stdout",
     "output_type": "stream",
     "text": [
      "[2, 3, 4, 5, 6]\n"
     ]
    }
   ],
   "source": [
    "# c) Print a sublist containing the elements from index 2 to 6 (inclusive).\n",
    "\n",
    "subList = numbers[2:7]\n",
    "\n",
    "print(subList)"
   ]
  },
  {
   "cell_type": "code",
   "execution_count": 52,
   "id": "d9cd739c",
   "metadata": {},
   "outputs": [
    {
     "name": "stdout",
     "output_type": "stream",
     "text": [
      "[9, 8, 7]\n",
      "[7, 8, 9]\n"
     ]
    }
   ],
   "source": [
    "# d) Print the last three elements using negative indexing.\n",
    "\n",
    "negativeIndexing1 = numbers[-1:-4:-1]\n",
    "negativeIndexing2 = numbers[-3:]\n",
    "\n",
    "print(negativeIndexing1)          # Method 1\n",
    "print(negativeIndexing2)          # Method 2\n"
   ]
  },
  {
   "cell_type": "markdown",
   "id": "4f48edcd",
   "metadata": {},
   "source": [
    "### Question 3: List Comprehension\n",
    "\n",
    "**a)** Create a list named `squares` using a list comprehension that contains the squares of numbers from 1 to 10.\n",
    "\n",
    "**b)** Create a new list named `even_squares` using a list comprehension that contains the squares of even numbers from the `squares` list.\n"
   ]
  },
  {
   "cell_type": "code",
   "execution_count": 81,
   "id": "f077b930",
   "metadata": {},
   "outputs": [
    {
     "name": "stdout",
     "output_type": "stream",
     "text": [
      "[1, 4, 9, 16, 25, 36, 49, 64, 81, 100]\n"
     ]
    }
   ],
   "source": [
    "# a) Create a list named squares using a list comprehension that contains the squares of numbers from 1 to 10.\n",
    "\n",
    "squares = [i*i for i in range(1, 11)]\n",
    "\n",
    "\n",
    "print(squares)"
   ]
  },
  {
   "cell_type": "code",
   "execution_count": 83,
   "id": "cb30b646",
   "metadata": {},
   "outputs": [
    {
     "name": "stdout",
     "output_type": "stream",
     "text": [
      "[4, 16, 36, 64, 100]\n"
     ]
    }
   ],
   "source": [
    "# b) Create a new list named even_squares using a list comprehension that contains the squares of even numbers from the squares list.\n",
    "\n",
    "\n",
    "even_squares = [i for i in squares if i%2 == 0]          # Using the 'squares' list created in previous cell\n",
    "\n",
    "print(even_squares)"
   ]
  },
  {
   "cell_type": "markdown",
   "id": "53c595d4",
   "metadata": {},
   "source": [
    "### Question 4: List Manipulation\n",
    "\n",
    "**a)** Create a list named `colors` containing the following items: \"red\", \"green\", \"blue\", \"yellow\", \"purple\".\n",
    "\n",
    "**b)** Swap the first and last elements of the list.\n",
    "\n",
    "**c)** Reverse the order of the list.\n",
    "\n",
    "**d)** Remove the second and third elements from the list.\n"
   ]
  },
  {
   "cell_type": "code",
   "execution_count": 122,
   "id": "efa2c279",
   "metadata": {},
   "outputs": [
    {
     "name": "stdout",
     "output_type": "stream",
     "text": [
      "['red', 'green', 'blue', 'yellow', 'purple']\n"
     ]
    }
   ],
   "source": [
    "# a) Create a list named colors containing the following items: \"red\", \"green\", \"blue\", \"yellow\", \"purple\".\n",
    "\n",
    "colors = [\"red\", \"green\", \"blue\", \"yellow\", \"purple\"]\n",
    "\n",
    "print(colors)"
   ]
  },
  {
   "cell_type": "code",
   "execution_count": 125,
   "id": "e2a71a6a",
   "metadata": {},
   "outputs": [
    {
     "name": "stdout",
     "output_type": "stream",
     "text": [
      "['purple', 'yellow', 'blue', 'green', 'red']\n"
     ]
    }
   ],
   "source": [
    "# b) Swap the first and last elements of the list.\n",
    "\n",
    "\n",
    "colors[0], colors[4] = colors[4], colors[0]          # Swapppig the elements using indexes\n",
    "\n",
    "print(colors)"
   ]
  },
  {
   "cell_type": "code",
   "execution_count": null,
   "id": "0741ea94",
   "metadata": {},
   "outputs": [],
   "source": []
  },
  {
   "cell_type": "code",
   "execution_count": 133,
   "id": "c4900a59",
   "metadata": {},
   "outputs": [
    {
     "name": "stdout",
     "output_type": "stream",
     "text": [
      "['purple', 'yellow', 'blue', 'green', 'red']\n"
     ]
    }
   ],
   "source": [
    "# c) Reverse the order of the list.\n",
    "\n",
    "\n",
    "colors.reverse()          # Using the built-in 'reverse' function to reverse the order of the list\n",
    "\n",
    "print(colors)"
   ]
  },
  {
   "cell_type": "code",
   "execution_count": 139,
   "id": "6097f9aa",
   "metadata": {},
   "outputs": [
    {
     "name": "stdout",
     "output_type": "stream",
     "text": [
      "['red', 'yellow', 'purple']\n"
     ]
    }
   ],
   "source": [
    "# d) Remove the second and third elements from the list.\n",
    "\n",
    "colors = [\"red\", \"green\", \"blue\", \"yellow\", \"purple\"]\n",
    "\n",
    "del colors[1:3]\n",
    "\n",
    "print(colors)"
   ]
  },
  {
   "cell_type": "markdown",
   "id": "bb310c69",
   "metadata": {},
   "source": [
    "### Question 5: Advanced Slicing\n",
    "\n",
    "**a)** Create a list named `letters` containing the letters from 'a' to 'j'.\n",
    "\n",
    "**b)** Using slicing, create a new list `first_half` containing the first half of the `letters` list.\n",
    "\n",
    "**c)** Using slicing, create a new list `last_three` containing the last three elements of the `letters` list.\n"
   ]
  },
  {
   "cell_type": "code",
   "execution_count": 167,
   "id": "4dd66b49",
   "metadata": {},
   "outputs": [
    {
     "name": "stdout",
     "output_type": "stream",
     "text": [
      "['a', 'b', 'c', 'd', 'e', 'f', 'g', 'h', 'i', 'j']\n"
     ]
    }
   ],
   "source": [
    "# a) Create a list named letters containing the letters from 'a' to 'j'.\n",
    "\n",
    "letters = [chr(letters) for letters in range(97, 107)]          # chr() function converts integer to its unicode character\n",
    "\n",
    "print(letters)"
   ]
  },
  {
   "cell_type": "code",
   "execution_count": 177,
   "id": "385676b4",
   "metadata": {},
   "outputs": [
    {
     "name": "stdout",
     "output_type": "stream",
     "text": [
      "['a', 'b', 'c', 'd', 'e']\n"
     ]
    }
   ],
   "source": [
    "# b) Using slicing, create a new list first_half containing the first half of the letters list.\n",
    "\n",
    "first_half = letters[:len(letters)//2]          # Using len() function to get the length of 'letters' then divided by 2\n",
    "\n",
    "print(first_half)"
   ]
  },
  {
   "cell_type": "code",
   "execution_count": 183,
   "id": "fe4b9e98",
   "metadata": {},
   "outputs": [
    {
     "name": "stdout",
     "output_type": "stream",
     "text": [
      "['h', 'i', 'j']\n"
     ]
    }
   ],
   "source": [
    "# c) Using slicing, create a new list last_three containing the last three elements of the letters list.\n",
    "\n",
    "last_three = letters[7:]          # 'end' and 'step' arguments are empty. Python will get default values itself.\n",
    "\n",
    "print(last_three)"
   ]
  },
  {
   "cell_type": "markdown",
   "id": "885b663e",
   "metadata": {},
   "source": [
    "### Question 6: Nested Lists\n",
    "\n",
    "**a)** Create a nested list named `matrix` with the following rows:\n",
    "   - [1, 2, 3]\n",
    "   - [4, 5, 6]\n",
    "   - [7, 8, 9]\n",
    "\n",
    "**b)** Print the element in the second row and third column.\n",
    "\n",
    "**c)** Use nested indexing to change the value at the second row and first column to 0.\n"
   ]
  },
  {
   "cell_type": "code",
   "execution_count": 192,
   "id": "a242be4b",
   "metadata": {},
   "outputs": [
    {
     "name": "stdout",
     "output_type": "stream",
     "text": [
      "[1, 2, 3]\n",
      "[4, 5, 6]\n",
      "[7, 8, 9]\n"
     ]
    }
   ],
   "source": [
    "# a) Create a nested list named matrix with the following rows:\n",
    "# [1, 2, 3]\n",
    "# [4, 5, 6]\n",
    "# [7, 8, 9]\n",
    "\n",
    "\n",
    "matrix = [[1, 2, 3], [4, 5, 6], [7, 8, 9]]\n",
    "\n",
    "for i in matrix:\n",
    "    print(i)\n"
   ]
  },
  {
   "cell_type": "code",
   "execution_count": 194,
   "id": "5d8ab5d6",
   "metadata": {},
   "outputs": [
    {
     "name": "stdout",
     "output_type": "stream",
     "text": [
      "6\n"
     ]
    }
   ],
   "source": [
    "# b) Print the element in the second row and third column.\n",
    "\n",
    "print(matrix[1][2])"
   ]
  },
  {
   "cell_type": "code",
   "execution_count": 199,
   "id": "e53012d2",
   "metadata": {},
   "outputs": [
    {
     "name": "stdout",
     "output_type": "stream",
     "text": [
      "[1, 2, 3]\n",
      "[0, 5, 6]\n",
      "[7, 8, 9]\n"
     ]
    }
   ],
   "source": [
    "# c) Use nested indexing to change the value at the second row and first column to 0.\n",
    "\n",
    "matrix[1][0] = 0\n",
    "\n",
    "for i in matrix:\n",
    "    print(i)\n"
   ]
  },
  {
   "cell_type": "code",
   "execution_count": null,
   "id": "8eb81a06",
   "metadata": {},
   "outputs": [],
   "source": []
  }
 ],
 "metadata": {
  "kernelspec": {
   "display_name": "Python 3 (ipykernel)",
   "language": "python",
   "name": "python3"
  },
  "language_info": {
   "codemirror_mode": {
    "name": "ipython",
    "version": 3
   },
   "file_extension": ".py",
   "mimetype": "text/x-python",
   "name": "python",
   "nbconvert_exporter": "python",
   "pygments_lexer": "ipython3",
   "version": "3.11.3"
  }
 },
 "nbformat": 4,
 "nbformat_minor": 5
}
